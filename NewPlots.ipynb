{
 "cells": [
  {
   "cell_type": "code",
   "execution_count": 1,
   "metadata": {},
   "outputs": [],
   "source": [
    "import pandas as pd\n",
    "import numpy as np\n",
    "\n",
    "lane_width = 3.7\n",
    "ego_width = 1.905\n",
    "tolerance = 1.05*(0.5*lane_width - 0.5*ego_width)\n",
    "original_excel_file = 'segment-183829460855609442_430_000_450_000_with_camera_labels.xlsx'\n",
    "\n",
    "DataFrame = pd.read_excel ('ExcelFiles/' + original_excel_file)\n",
    "\n",
    "ind = DataFrame.loc[(DataFrame['objY'] <= tolerance) & \n",
    "                    (DataFrame['objY'] > -1*tolerance) & \n",
    "                    (DataFrame['objSpeedY'] > -0.1) &\n",
    "                    (DataFrame['objSpeedY'] < 0.1) &\n",
    "                    (DataFrame['objX'] < 200) &\n",
    "                    (DataFrame['objX'] > -200)]"
   ]
  },
  {
   "cell_type": "code",
   "execution_count": 2,
   "metadata": {},
   "outputs": [
    {
     "name": "stdout",
     "output_type": "stream",
     "text": [
      "no following vehicle\n",
      "no following vehicle\n",
      "no following vehicle\n",
      "no following vehicle\n",
      "no following vehicle\n",
      "no following vehicle\n",
      "no following vehicle\n",
      "no following vehicle\n",
      "no following vehicle\n",
      "no following vehicle\n",
      "no following vehicle\n",
      "no following vehicle\n",
      "no following vehicle\n",
      "no following vehicle\n",
      "no following vehicle\n",
      "no following vehicle\n",
      "no following vehicle\n",
      "no following vehicle\n",
      "no following vehicle\n",
      "no following vehicle\n",
      "no following vehicle\n",
      "no following vehicle\n",
      "no following vehicle\n",
      "no following vehicle\n",
      "no following vehicle\n",
      "no following vehicle\n",
      "no following vehicle\n",
      "no following vehicle\n",
      "no following vehicle\n",
      "no following vehicle\n",
      "no following vehicle\n",
      "no following vehicle\n",
      "no following vehicle\n",
      "no following vehicle\n",
      "no following vehicle\n",
      "no following vehicle\n",
      "no following vehicle\n",
      "no following vehicle\n",
      "_eEvFUnEzuqnQxAUnEGlNQ\n"
     ]
    }
   ],
   "source": [
    "following_vehicle_ID = ''\n",
    "for i in range(0, 199):\n",
    "    # check for the first following vehicle\n",
    "    try:\n",
    "        frame0_IDs = ind.loc[(ind['frame no'] == i) & (DataFrame['objX'] < 0)] \n",
    "        frame0_IDs = frame0_IDs.sort_values(by=['objX'])\n",
    "        tmp = frame0_IDs['tracking ID'].iloc[-1]\n",
    "        following_vehicle_ID = tmp\n",
    "        print(following_vehicle_ID)\n",
    "        break\n",
    "    except:\n",
    "        print('no following vehicle')\n",
    "# getting following vehicle data\n",
    "following_vehicle_data = DataFrame.loc[(DataFrame['tracking ID'] == following_vehicle_ID)]\n",
    "following_vehicle_data.reset_index(drop=True, inplace=True)\n",
    "# print(following_vehicle_data)"
   ]
  },
  {
   "cell_type": "code",
   "execution_count": 3,
   "metadata": {},
   "outputs": [
    {
     "name": "stdout",
     "output_type": "stream",
     "text": [
      "p-9IinbUxyzjqSMJImwzwQ\n"
     ]
    }
   ],
   "source": [
    "leading_vehicle_ID = ''\n",
    "for i in range(0, 199):\n",
    "    # check for the first following vehicle\n",
    "    try:\n",
    "        frame0_IDs = ind.loc[(ind['frame no'] == i) & (DataFrame['objX'] > 0)] \n",
    "        frame0_IDs = frame0_IDs.sort_values(by=['objX'])\n",
    "        tmp = frame0_IDs['tracking ID'].iloc[0]\n",
    "        leading_vehicle_ID = tmp\n",
    "        print(leading_vehicle_ID)\n",
    "        break\n",
    "    except:\n",
    "        print('no leading vehicle')\n",
    "# getting leading vehicle data\n",
    "leading_vehicle_data = DataFrame.loc[(DataFrame['tracking ID'] == leading_vehicle_ID)]\n",
    "leading_vehicle_data.reset_index(drop=True, inplace=True)\n",
    "# print(following_vehicle_data)"
   ]
  },
  {
   "cell_type": "code",
   "execution_count": 4,
   "metadata": {},
   "outputs": [
    {
     "name": "stdout",
     "output_type": "stream",
     "text": [
      "end of frame\n"
     ]
    }
   ],
   "source": [
    "# get the acceleration of ego vehicle\n",
    "len_frame = max(DataFrame['frame no'].values) + 1\n",
    "egoAccX = []\n",
    "tmp_acc = 0\n",
    "for i in range (0, len_frame):\n",
    "    try:\n",
    "        segment1 = DataFrame.loc[(DataFrame['frame no'] == i)]\n",
    "        segment2 = DataFrame.loc[(DataFrame['frame no'] == i+1)]\n",
    "        egoSpeed1 = segment1['egoSpeedX'].iloc[0]\n",
    "        egoSpeed2 = segment2['egoSpeedX'].iloc[0]\n",
    "        tmp_acc = (egoSpeed2-egoSpeed1)/0.1\n",
    "        egoAccX.append(tmp_acc)\n",
    "    except:\n",
    "        egoAccX.append(tmp_acc)\n",
    "        print('end of frame')\n",
    "egoAccX_df = pd.DataFrame(egoAccX, columns=['egoAccX'])\n",
    "# print(egoAccX_df)"
   ]
  },
  {
   "cell_type": "code",
   "execution_count": 5,
   "metadata": {},
   "outputs": [],
   "source": [
    "export_path = 'exported_files/' + original_excel_file[:-5]"
   ]
  },
  {
   "cell_type": "code",
   "execution_count": 6,
   "metadata": {},
   "outputs": [
    {
     "name": "stdout",
     "output_type": "stream",
     "text": [
      "<class 'pandas.core.frame.DataFrame'>\n"
     ]
    }
   ],
   "source": [
    "# for the ego and leading vehicle\n",
    "# speed X of ego vehicle + speed X of leading vehicle + acceleration X of ego vehicle \n",
    "# + headway (leading -> ego)\n",
    "frames_ego_leading = [leading_vehicle_data['egoSpeedX'].abs(), \n",
    "                      leading_vehicle_data['objSpeedX'].abs(), \n",
    "                      egoAccX_df['egoAccX'],\n",
    "                      leading_vehicle_data['objX']\n",
    "                     ]\n",
    "result_ego_leading = pd.concat(frames_ego_leading, axis=1)\n",
    "print(type(result_ego_leading))\n",
    "result_ego_leading.to_excel(export_path + '_EgoLeading.xlsx')"
   ]
  },
  {
   "cell_type": "code",
   "execution_count": 7,
   "metadata": {},
   "outputs": [
    {
     "name": "stdout",
     "output_type": "stream",
     "text": [
      "<class 'pandas.core.frame.DataFrame'>\n"
     ]
    }
   ],
   "source": [
    "# for the ego vehicle and following vehicle\n",
    "# speed X of following vehicle + speed X of ego vehicle + acceleration X of follower vehicle \n",
    "# + headway (ego -> following)\n",
    "frames_following_ego = [following_vehicle_data['objSpeedX'].abs(), \n",
    "                      following_vehicle_data['egoSpeedX'].abs(), \n",
    "                      following_vehicle_data['objAccX'],\n",
    "                      following_vehicle_data['objX']\n",
    "                     ]\n",
    "result_following_ego = pd.concat(frames_following_ego, axis=1)\n",
    "print(type(result_following_ego))\n",
    "result_following_ego.to_excel(export_path + '_FollowingEgo.xlsx')"
   ]
  },
  {
   "cell_type": "code",
   "execution_count": null,
   "metadata": {},
   "outputs": [],
   "source": [
    "# import matplotlib.pyplot as plt\n",
    "# import matplotlib.colors as colors\n",
    "# import matplotlib.cm as cmx\n",
    "# %matplotlib inline\n",
    "\n",
    "# # fig = plt.figure(figsize=(20, 10), dpi=500, facecolor='w', edgecolor='k')\n",
    "# # ax = fig.add_subplot(111)\n",
    "# # jet = cm = plt.get_cmap('jet') \n",
    "# # cNorm  = colors.Normalize(vmin=0, vmax=2)\n",
    "# # scalarMap = cmx.ScalarMappable(norm=cNorm, cmap=jet)\n",
    "\n",
    "# acceleration_following = following_vehicle_data['objAccX'].to_numpy()\n",
    "# acceleration_following = np.delete(acceleration_following, -1)\n",
    "# # acceleration_following[acceleration_following < 0] = 0\n",
    "# x_values = following_vehicle_data['objX'].to_numpy()\n",
    "# x_values = abs(np.delete(x_values, -1))\n",
    "# # colorVal = scalarMap.to_rgba(range(2)[1])\n",
    "# # ax.plot(acceleration_following, x_values, color=colorVal, label=following_vehicle_data[\"tracking ID\"].iloc[0])\n",
    "# plt.plot(acceleration_following, x_values)\n",
    "# plt.xlabel('Acceleration (m/s)', fontsize=15)\n",
    "# plt.ylabel('Headway (m)', fontsize=15)\n",
    "# plt.show()"
   ]
  },
  {
   "cell_type": "code",
   "execution_count": null,
   "metadata": {},
   "outputs": [],
   "source": []
  }
 ],
 "metadata": {
  "kernelspec": {
   "display_name": "Python 3",
   "language": "python",
   "name": "python3"
  },
  "language_info": {
   "codemirror_mode": {
    "name": "ipython",
    "version": 3
   },
   "file_extension": ".py",
   "mimetype": "text/x-python",
   "name": "python",
   "nbconvert_exporter": "python",
   "pygments_lexer": "ipython3",
   "version": "3.8.3"
  }
 },
 "nbformat": 4,
 "nbformat_minor": 4
}
