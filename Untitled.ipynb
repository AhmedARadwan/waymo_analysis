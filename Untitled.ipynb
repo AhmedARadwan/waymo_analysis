{
 "cells": [
  {
   "cell_type": "code",
   "execution_count": 3,
   "metadata": {},
   "outputs": [],
   "source": [
    "# !pip install pandas\n",
    "import pandas as pd\n",
    "import os\n",
    "import glob\n",
    "# import matplotlib.pyplot as plt\n",
    "\n"
   ]
  },
  {
   "cell_type": "code",
   "execution_count": null,
   "metadata": {},
   "outputs": [],
   "source": [
    "file_list = glob.glob(\"C:\\Users\\AVE-LAP-179\\Downloads\\Selected shockwaves plots/**/*.png\")\n",
    "#file_list\n",
    "len(file_list)"
   ]
  },
  {
   "cell_type": "code",
   "execution_count": null,
   "metadata": {},
   "outputs": [],
   "source": [
    "print(file_list[0])\n",
    "t = file_list[0]\n",
    "print(t[59:])"
   ]
  },
  {
   "cell_type": "code",
   "execution_count": null,
   "metadata": {},
   "outputs": [],
   "source": [
    "#Give the address of the global data (folders with subfolders)\n",
    "path_global = r\"F:\\GoogleData\\UnzippedYonohubData\\GlobalData\""
   ]
  },
  {
   "cell_type": "code",
   "execution_count": null,
   "metadata": {},
   "outputs": [],
   "source": [
    "my_address_list = [] #list of the address of global data of corresponding lane change files\n",
    "for x in file_list:\n",
    "    #print(x[56:])\n",
    "    xlsx_files = glob.glob(path_global + \"/**/\"+ x[59:], recursive = True)\n",
    "    #print(type(xlsx_files))\n",
    "    my_address_list.append(xlsx_files)\n",
    "print(len(my_address_list))\n",
    "\n",
    "my_address_list=[str(i) for i in my_address_list]\n",
    "len(my_address_list)"
   ]
  }
 ],
 "metadata": {
  "kernelspec": {
   "display_name": "Python 2",
   "language": "python",
   "name": "python2"
  },
  "language_info": {
   "codemirror_mode": {
    "name": "ipython",
    "version": 2
   },
   "file_extension": ".py",
   "mimetype": "text/x-python",
   "name": "python",
   "nbconvert_exporter": "python",
   "pygments_lexer": "ipython2",
   "version": "2.7.15rc1"
  }
 },
 "nbformat": 4,
 "nbformat_minor": 2
}
