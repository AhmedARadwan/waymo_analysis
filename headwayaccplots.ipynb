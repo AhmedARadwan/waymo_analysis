{
 "cells": [
  {
   "cell_type": "code",
   "execution_count": 1,
   "metadata": {},
   "outputs": [],
   "source": [
    "# !pip install pandas\n",
    "import pandas as pd\n",
    "import os\n",
    "import glob\n",
    "# import matplotlib.pyplot as plt\n",
    "\n"
   ]
  },
  {
   "cell_type": "code",
   "execution_count": 3,
   "metadata": {},
   "outputs": [
    {
     "data": {
      "text/plain": [
       "31"
      ]
     },
     "execution_count": 3,
     "metadata": {},
     "output_type": "execute_result"
    }
   ],
   "source": [
    "file_list = glob.glob(r\"C:\\Users\\AVE-LAP-179\\Documents\\Amolika's work\\Selected shockwaves plots/**/*.png\")\n",
    "#file_list\n",
    "len(file_list)"
   ]
  },
  {
   "cell_type": "code",
   "execution_count": 11,
   "metadata": {},
   "outputs": [
    {
     "name": "stdout",
     "output_type": "stream",
     "text": [
      "C:\\Users\\AVE-LAP-179\\Documents\\Amolika's work\\Selected shockwaves plots\\SelectedV_0000\\segment-11616035176233595745_3548_820_3568_820_with_camera_labels.xlsx.png\n",
      "segment-11616035176233595745_3548_820_3568_820_with_camera_labels.xlsx\n"
     ]
    }
   ],
   "source": [
    "print(file_list[0])\n",
    "t = file_list[0]\n",
    "print(t[-74:-4])"
   ]
  },
  {
   "cell_type": "code",
   "execution_count": 12,
   "metadata": {},
   "outputs": [
    {
     "name": "stdout",
     "output_type": "stream",
     "text": [
      "segment-11616035176233595745_3548_820_3568_820_with_camera_labels.xlsx\n",
      "segment-13415985003725220451_6163_000_6183_000_with_camera_labels.xlsx\n",
      "2\\segment-15021599536622641101_556_150_576_150_with_camera_labels.xlsx\n",
      "\\segment-2105808889850693535_2295_720_2315_720_with_camera_labels.xlsx\n",
      "06\\segment-7932945205197754811_780_000_800_000_with_camera_labels.xlsx\n",
      "segment-10923963890428322967_1445_000_1465_000_with_camera_labels.xlsx\n",
      "segment-11199484219241918646_2810_030_2830_030_with_camera_labels.xlsx\n",
      "3\\segment-11967272535264406807_580_000_600_000_with_camera_labels.xlsx\n",
      "segment-12848519977617081063_2488_000_2508_000_with_camera_labels.xlsx\n",
      "segment-13145971249179441231_1640_000_1660_000_with_camera_labels.xlsx\n",
      "segment-13310437789759009684_2645_000_2665_000_with_camera_labels.xlsx\n",
      "segment-14561791273891593514_2558_030_2578_030_with_camera_labels.xlsx\n",
      "segment-16202688197024602345_3818_820_3838_820_with_camera_labels.xlsx\n",
      "segment-16552287303455735122_7587_380_7607_380_with_camera_labels.xlsx\n",
      "segment-16651261238721788858_2365_000_2385_000_with_camera_labels.xlsx\n",
      "3\\segment-16873108320324977627_780_000_800_000_with_camera_labels.xlsx\n",
      "segment-17160696560226550358_6229_820_6249_820_with_camera_labels.xlsx\n",
      "segment-17295069199227237940_3160_000_3180_000_with_camera_labels.xlsx\n",
      "015\\segment-183829460855609442_430_000_450_000_with_camera_labels.xlsx\n",
      "\\segment-1940032764689855266_3690_210_3710_210_with_camera_labels.xlsx\n",
      "\\segment-4191035366928259953_1732_708_1752_708_with_camera_labels.xlsx\n",
      "\\segment-5076950993715916459_3265_000_3285_000_with_camera_labels.xlsx\n",
      "\\segment-5129792222840846899_2145_000_2165_000_with_camera_labels.xlsx\n",
      "24\\segment-5835049423600303130_180_000_200_000_with_camera_labels.xlsx\n",
      "25\\segment-6207195415812436731_805_000_825_000_with_camera_labels.xlsx\n",
      "\\segment-6742105013468660925_3645_000_3665_000_with_camera_labels.xlsx\n",
      "\\segment-6791933003490312185_2607_000_2627_000_with_camera_labels.xlsx\n",
      "\\segment-7890808800227629086_6162_700_6182_700_with_camera_labels.xlsx\n",
      "\\segment-8454755173123314088_3202_000_3222_000_with_camera_labels.xlsx\n",
      "29\\segment-8513241054672631743_115_960_135_960_with_camera_labels.xlsx\n",
      "031\\segment-972142630887801133_642_740_662_740_with_camera_labels.xlsx\n"
     ]
    }
   ],
   "source": [
    "my_address_list = [] #list of the address of global data of corresponding lane change files\n",
    "for x in file_list:\n",
    "    print(x[-74:-4])\n",
    "    #xlsx_files = glob.glob(path_global + \"/**/\"+ x[-74:-4], recursive = True)\n",
    "    #print(type(xlsx_files))\n",
    "#     my_address_list.append(xlsx_files)\n",
    "# print(len(my_address_list))\n",
    "\n",
    "# my_address_list=[str(i) for i in my_address_list]\n",
    "# len(my_address_list)"
   ]
  },
  {
   "cell_type": "code",
   "execution_count": null,
   "metadata": {},
   "outputs": [],
   "source": [
    "#Give the address of the global data (folders with subfolders)\n",
    "path_global = r\"F:\\GoogleData\\UnzippedYonohubData\\GlobalData\""
   ]
  },
  {
   "cell_type": "code",
   "execution_count": null,
   "metadata": {},
   "outputs": [],
   "source": [
    "my_address_list = [] #list of the address of global data of corresponding lane change files\n",
    "for x in file_list:\n",
    "    #print(x[56:])\n",
    "    xlsx_files = glob.glob(path_global + \"/**/\"+ x[-74:-4], recursive = True)\n",
    "    #print(type(xlsx_files))\n",
    "    my_address_list.append(xlsx_files)\n",
    "print(len(my_address_list))\n",
    "\n",
    "my_address_list=[str(i) for i in my_address_list]\n",
    "len(my_address_list)"
   ]
  }
 ],
 "metadata": {
  "kernelspec": {
   "display_name": "Python 3",
   "language": "python",
   "name": "python3"
  },
  "language_info": {
   "codemirror_mode": {
    "name": "ipython",
    "version": 3
   },
   "file_extension": ".py",
   "mimetype": "text/x-python",
   "name": "python",
   "nbconvert_exporter": "python",
   "pygments_lexer": "ipython3",
   "version": "3.8.3"
  }
 },
 "nbformat": 4,
 "nbformat_minor": 2
}
